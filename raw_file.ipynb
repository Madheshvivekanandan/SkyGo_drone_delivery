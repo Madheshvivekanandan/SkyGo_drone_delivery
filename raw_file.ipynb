{
 "cells": [ 
  {
   "cell_type": "code",
   "execution_count": 10,
   "metadata": {},
   "outputs": [],
   "source": [
    "import json\n",
    "\n",
    "def manhattan_distance(x, y):\n",
    "    return abs(x - 0) + abs(y - 0)\n",
    "\n",
    "def assign_drones(input_file, output_file):\n",
    "    # Load input JSON\n",
    "    with open(input_file, \"r\") as f:\n",
    "        data = json.load(f)\n",
    "\n",
    "    drones = sorted(data[\"drones\"][\"fleet\"], key=lambda d: (-d[\"speed\"], -d[\"max_payload\"], -d[\"max_distance\"]))  # Prioritize faster drones\n",
    "    orders = sorted(data[\"orders\"], key=lambda o: o[\"deadline\"])  # Prioritize earlier deadlines\n",
    "    assignments = []\n",
    "    for drone in drones:\n",
    "        if not drone[\"available\"]:\n",
    "            print(f\"Drone {drone['id']} is not available.\")\n",
    "            continue  # Skip unavailable drones\n",
    "\n",
    "        assigned_orders = []\n",
    "        total_distance = 0\n",
    "        remaining_payload = drone[\"max_payload\"]\n",
    "        remaining_distance = drone[\"max_distance\"]\n",
    "\n",
    "        for order in orders[:]:  # Copy to allow modification\n",
    "            order_distance = manhattan_distance(order[\"delivery_x\"], order[\"delivery_y\"])\n",
    "            round_trip_distance = 2 * order_distance\n",
    "\n",
    "            # Check constraints\n",
    "            if (\n",
    "                order[\"package_weight\"] <= remaining_payload and\n",
    "                round_trip_distance <= remaining_distance\n",
    "            ):\n",
    "                assigned_orders.append(order[\"id\"])\n",
    "                total_distance += round_trip_distance\n",
    "                remaining_payload -= order[\"package_weight\"]\n",
    "                remaining_distance -= round_trip_distance\n",
    "                orders.remove(order)  # Remove assigned order\n",
    "\n",
    "        if assigned_orders:\n",
    "            assignments.append({\n",
    "                \"drone\": drone[\"id\"],\n",
    "                \"orders\": assigned_orders,\n",
    "                \"total_distance\": total_distance\n",
    "            })\n",
    "\n",
    "    # Save output JSON\n",
    "    with open(output_file, \"w\") as f:\n",
    "        json.dump({\"assignments\": assignments}, f, indent=4)\n",
    "\n",
    "# Example usage\n",
    "assign_drones(r\"C:\\Users\\m_vivekanandan\\OneDrive - INFOTEL CONSEIL\\Desktop\\madmi\\python\\sample.json\", \"output.json\")\n"
   ]
  },
  {
   "cell_type": "code",
   "execution_count": 2,
   "metadata": {},
   "outputs": [],
   "source": [
    "import json\n",
    "from itertools import combinations\n",
    "if __name__ == \"__main__\":\n",
    "    with open(r\"C:\\Users\\m_vivekanandan\\OneDrive - INFOTEL CONSEIL\\Desktop\\madmi\\python\\sample.json\", \"r\") as f:\n",
    "        data = json.load(f)"
   ]
  },
  {
   "cell_type": "code",
   "execution_count": 6,
   "metadata": {},
   "outputs": [
    {
     "data": {
      "text/plain": [
       "{'city': {'grid_size': 20},\n",
       " 'drones': {'fleet': [{'id': 'D1',\n",
       "    'max_payload': 5,\n",
       "    'max_distance': 15,\n",
       "    'speed': 2,\n",
       "    'available': True},\n",
       "   {'id': 'D2',\n",
       "    'max_payload': 10,\n",
       "    'max_distance': 35,\n",
       "    'speed': 1.5,\n",
       "    'available': True},\n",
       "   {'id': 'D3',\n",
       "    'max_payload': 3,\n",
       "    'max_distance': 20,\n",
       "    'speed': 2.5,\n",
       "    'available': False}]},\n",
       " 'orders': [{'id': 'O1',\n",
       "   'delivery_x': 5,\n",
       "   'delivery_y': 10,\n",
       "   'deadline': 15,\n",
       "   'package_weight': 2},\n",
       "  {'id': 'O2',\n",
       "   'delivery_x': 15,\n",
       "   'delivery_y': 5,\n",
       "   'deadline': 30,\n",
       "   'package_weight': 8},\n",
       "  {'id': 'O3',\n",
       "   'delivery_x': 12,\n",
       "   'delivery_y': 8,\n",
       "   'deadline': 25,\n",
       "   'package_weight': 4},\n",
       "  {'id': 'O4',\n",
       "   'delivery_x': 3,\n",
       "   'delivery_y': 15,\n",
       "   'deadline': 40,\n",
       "   'package_weight': 6}]}"
      ]
     },
     "execution_count": 6,
     "metadata": {},
     "output_type": "execute_result"
    }
   ],
   "source": [
    "data"
   ]
  },
  {
   "cell_type": "code",
   "execution_count": 12,
   "metadata": {},
   "outputs": [],
   "source": [
    "data\n",
    "drones = sorted([d for d in data[\"drones\"][\"fleet\"] if d[\"available\"]], key=lambda d: -d[\"speed\"])"
   ]
  },
  {
   "cell_type": "code",
   "execution_count": 13,
   "metadata": {},
   "outputs": [
    {
     "data": {
      "text/plain": [
       "[{'id': 'D1',\n",
       "  'max_payload': 5,\n",
       "  'max_distance': 15,\n",
       "  'speed': 2,\n",
       "  'available': True},\n",
       " {'id': 'D2',\n",
       "  'max_payload': 10,\n",
       "  'max_distance': 35,\n",
       "  'speed': 1.5,\n",
       "  'available': True}]"
      ]
     },
     "execution_count": 13,
     "metadata": {},
     "output_type": "execute_result"
    }
   ],
   "source": [
    "drones"
   ]
  },
  {
   "cell_type": "code",
   "execution_count": 17,
   "metadata": {},
   "outputs": [
    {
     "data": {
      "text/plain": [
       "[{'id': 'O1',\n",
       "  'delivery_x': 5,\n",
       "  'delivery_y': 10,\n",
       "  'deadline': 15,\n",
       "  'package_weight': 2},\n",
       " {'id': 'O3',\n",
       "  'delivery_x': 12,\n",
       "  'delivery_y': 8,\n",
       "  'deadline': 25,\n",
       "  'package_weight': 4},\n",
       " {'id': 'O2',\n",
       "  'delivery_x': 15,\n",
       "  'delivery_y': 5,\n",
       "  'deadline': 30,\n",
       "  'package_weight': 8},\n",
       " {'id': 'O4',\n",
       "  'delivery_x': 3,\n",
       "  'delivery_y': 15,\n",
       "  'deadline': 40,\n",
       "  'package_weight': 6}]"
      ]
     },
     "execution_count": 17,
     "metadata": {},
     "output_type": "execute_result"
    }
   ],
   "source": [
    "orders = sorted(data[\"orders\"], key=lambda o: o[\"deadline\"])\n",
    "orders"
   ]
  },
  {
   "cell_type": "code",
   "execution_count": 8,
   "metadata": {},
   "outputs": [
    {
     "name": "stdout",
     "output_type": "stream",
     "text": [
      "[{'id': 'O4', 'delivery_x': 13, 'delivery_y': 12, 'deadline': 40, 'package_weight': 6}, {'id': 'O3', 'delivery_x': 4, 'delivery_y': 4, 'deadline': 25, 'package_weight': 4}, {'id': 'O2', 'delivery_x': 3, 'delivery_y': 3, 'deadline': 30, 'package_weight': 8}, {'id': 'O1', 'delivery_x': 2, 'delivery_y': 2, 'deadline': 15, 'package_weight': 2}]\n",
      "[{'id': 'D3', 'max_payload': 7, 'max_distance': 20, 'speed': 2.5, 'available': True}, {'id': 'D1', 'max_payload': 20, 'max_distance': 100, 'speed': 2, 'available': True}, {'id': 'D2', 'max_payload': 25, 'max_distance': 40, 'speed': 1.5, 'available': True}]\n"
     ]
    }
   ],
   "source": [
    "import json\n",
    "\n",
    "def manhattan_distance(x, y):\n",
    "    return abs(x - 0) + abs(y - 0)\n",
    "\n",
    "def assign_drones(input_file, output_file):\n",
    "    # Load input JSON\n",
    "    with open(input_file, \"r\") as f:\n",
    "        data = json.load(f)\n",
    "\n",
    "    drones = sorted(data[\"drones\"][\"fleet\"], key=lambda d: (-d[\"speed\"], -d[\"max_payload\"], -d[\"max_distance\"]))  # Prioritize faster drones\n",
    "    orders = sorted(data[\"orders\"], key=lambda o: -o[\"delivery_x\"])  # Prioritize earlier deadlines\n",
    "    print(orders)\n",
    "    print(drones)\n",
    "    assignments = []\n",
    "    for drone in drones:\n",
    "        if not drone[\"available\"]:\n",
    "            print(f\"Drone {drone['id']} is not available.\")\n",
    "            continue  # Skip unavailable drones\n",
    "\n",
    "        assigned_orders = []\n",
    "        total_distance = 0\n",
    "        remaining_payload = drone[\"max_payload\"]\n",
    "        remaining_distance = drone[\"max_distance\"]\n",
    "\n",
    "        for order in orders[:]:  # Copy to allow modification\n",
    "            order_distance = manhattan_distance(order[\"delivery_x\"], order[\"delivery_y\"])\n",
    "            round_trip_distance = 2 * order_distance\n",
    "\n",
    "            # Check constraints\n",
    "            if (\n",
    "                order[\"package_weight\"] <= remaining_payload and\n",
    "                round_trip_distance <= remaining_distance\n",
    "            ):\n",
    "                assigned_orders.append(order[\"id\"])\n",
    "                total_distance += round_trip_distance\n",
    "                remaining_payload -= order[\"package_weight\"]\n",
    "                remaining_distance -= round_trip_distance\n",
    "                orders.remove(order)  # Remove assigned order\n",
    "\n",
    "        if assigned_orders:\n",
    "            assignments.append({\n",
    "                \"drone\": drone[\"id\"],\n",
    "                \"orders\": assigned_orders,\n",
    "                \"total_distance\": total_distance\n",
    "            })\n",
    "\n",
    "    # Save output JSON\n",
    "    with open(output_file, \"w\") as f:\n",
    "        json.dump({\"assignments\": assignments}, f, indent=4)\n",
    "\n",
    "# Example usage\n",
    "assign_drones(r\"C:\\Users\\m_vivekanandan\\OneDrive - INFOTEL CONSEIL\\Desktop\\madmi\\python\\sample.json\", \"output.json\")\n"
   ]
  },
  {
   "cell_type": "code",
   "execution_count": 24,
   "metadata": {},
   "outputs": [],
   "source": [
    "# pip install wikipedia"
   ]
  },
  {
   "cell_type": "code",
   "execution_count": 23,
   "metadata": {},
   "outputs": [],
   "source": [
    "# import wikipedia\n",
    "# wikipedia.summary(\"Wikipedia\")"
   ]
  },
  {
   "cell_type": "code",
   "execution_count": 1,
   "metadata": {},
   "outputs": [
    {
     "name": "stdout",
     "output_type": "stream",
     "text": [
      "[{'id': 'D3', 'max_payload': 7, 'max_distance': 50, 'speed': 2.5, 'available': True}, {'id': 'D1', 'max_payload': 20, 'max_distance': 100, 'speed': 2, 'available': True}, {'id': 'D2', 'max_payload': 25, 'max_distance': 40, 'speed': 1.5, 'available': True}]\n",
      "[{'id': 'O1', 'delivery_x': 2, 'delivery_y': 2, 'deadline': 15, 'package_weight': 2}, {'id': 'O3', 'delivery_x': 4, 'delivery_y': 4, 'deadline': 25, 'package_weight': 4}, {'id': 'O2', 'delivery_x': 3, 'delivery_y': 3, 'deadline': 30, 'package_weight': 8}, {'id': 'O4', 'delivery_x': 13, 'delivery_y': 12, 'deadline': 40, 'package_weight': 6}]\n"
     ]
    }
   ],
   "source": [
    "import json\n",
    "\n",
    "def distance(x, y):\n",
    "    return abs(x - 0) + abs(y - 0)\n",
    "\n",
    "def assign_drones(input_file, output_file):\n",
    "    # Load input JSON\n",
    "    with open(input_file, \"r\") as f:\n",
    "        data = json.load(f)\n",
    "\n",
    "    drones = sorted(data[\"drones\"][\"fleet\"], key=lambda d: (-d[\"speed\"], -d[\"max_payload\"], -d[\"max_distance\"]))  # Prioritize faster drones\n",
    "    print(drones)\n",
    "    orders = sorted(data[\"orders\"], key=lambda o: (o[\"deadline\"]))  # Prioritize earlier deadlines\n",
    "    print(orders)\n",
    "    assignments = []\n",
    "    for drone in drones:\n",
    "        if not drone[\"available\"]:\n",
    "            print(f\"Drone {drone['id']} is not available.\")\n",
    "            continue  # Skip unavailable drones\n",
    "\n",
    "        assigned_orders = []\n",
    "        total_distance = 0\n",
    "        remaining_payload = drone[\"max_payload\"]\n",
    "        remaining_distance = drone[\"max_distance\"]\n",
    "\n",
    "        for order in orders[:]:  # Copy to allow modification\n",
    "            order_distance = distance(order[\"delivery_x\"], order[\"delivery_y\"])\n",
    "            round_trip_distance = 2 * order_distance\n",
    "\n",
    "            # Check constraints\n",
    "            if (\n",
    "                order[\"package_weight\"] <= remaining_payload and\n",
    "                round_trip_distance <= remaining_distance\n",
    "            ):\n",
    "                assigned_orders.append(order[\"id\"])\n",
    "                total_distance += round_trip_distance\n",
    "                remaining_payload -= order[\"package_weight\"]\n",
    "                remaining_distance -= round_trip_distance\n",
    "                orders.remove(order)  # Remove assigned order\n",
    "\n",
    "        if assigned_orders:\n",
    "            assignments.append({\n",
    "                \"drone\": drone[\"id\"],\n",
    "                \"orders\": assigned_orders,\n",
    "                \"total_distance\": total_distance\n",
    "            })\n",
    "\n",
    "    # Save output JSON\n",
    "    with open(output_file, \"w\") as f:\n",
    "        json.dump({\"assignments\": assignments}, f, indent=4)\n",
    "\n",
    "# Example usage\n",
    "assign_drones(r\"sample.json\", \"output.json\")"
   ]
  },
  {
   "cell_type": "code",
   "execution_count": 7,
   "metadata": {},
   "outputs": [],
   "source": [
    "import json\n",
    "with open('sample.json', \"r\") as f:\n",
    "    data = json.load(f)"
   ]
  },
  {
   "cell_type": "code",
   "execution_count": 8,
   "metadata": {},
   "outputs": [
    {
     "name": "stdout",
     "output_type": "stream",
     "text": [
      "{'id': 'D3', 'max_payload': 7, 'max_distance': 50, 'speed': 2.5, 'available': True}\n",
      "{'id': 'D1', 'max_payload': 20, 'max_distance': 100, 'speed': 2, 'available': True}\n",
      "{'id': 'D2', 'max_payload': 25, 'max_distance': 40, 'speed': 1.5, 'available': True}\n"
     ]
    }
   ],
   "source": [
    "drones = sorted(data[\"drones\"][\"fleet\"], key=lambda d: (-d[\"speed\"], -d[\"max_payload\"], -d[\"max_distance\"]))  # Prioritize faster drones\n",
    "for i in drones:\n",
    "    print(i)"
   ]
  },
  {
   "cell_type": "code",
   "execution_count": 9,
   "metadata": {},
   "outputs": [
    {
     "name": "stdout",
     "output_type": "stream",
     "text": [
      "{'id': 'O3', 'delivery_x': 4, 'delivery_y': 4, 'deadline': 25, 'package_weight': 4}\n",
      "{'id': 'O2', 'delivery_x': 3, 'delivery_y': 3, 'deadline': 30, 'package_weight': 8}\n",
      "{'id': 'O1', 'delivery_x': 2, 'delivery_y': 2, 'deadline': 15, 'package_weight': 2}\n",
      "{'id': 'O4', 'delivery_x': -2, 'delivery_y': -2, 'deadline': 40, 'package_weight': 6}\n"
     ]
    }
   ],
   "source": [
    "orders = sorted(data[\"orders\"], key=lambda o: (-(o[\"delivery_x\"]+o[\"delivery_y\"])))  # Prioritize earlier deadlines\n",
    "for i in orders:\n",
    "    print(i)"
   ]
  },
  {
   "cell_type": "code",
   "execution_count": 10,
   "metadata": {},
   "outputs": [],
   "source": [
    "# orders = sorted(data[\"orders\"], key=lambda o: (-(o[\"delivery_x\"]+o[\"delivery_y\"])))  # Prioritize earlier deadlines\n",
    "# assignments = []\n",
    "# for drone in drones:\n",
    "#     if not drone[\"available\"]:\n",
    "#         print(f\"Drone {drone['id']} is not available.\")\n",
    "#         continue  # Skip unavailable drones\n",
    "#     assigned_orders = []\n",
    "#     total_distance = 0\n",
    "#     remaining_payload = drone[\"max_payload\"]\n",
    "#     print(\"remaining_payload\", drone[\"max_payload\"])\n",
    "#     remaining_distance = drone[\"max_distance\"]\n",
    "#     print(\"remaining_distance\", drone[\"max_distance\"])\n",
    "#     for order in orders[:]:  # Copy to allow modification\n",
    "#         print(order)\n",
    "#         order_distance = distance(order[\"delivery_x\"], order[\"delivery_y\"] ,z,a)\n",
    "#         round_trip_distance = 2 * order_distance\n",
    "#         print(\"round_trip_distance\", round_trip_distance)\n",
    "\n",
    "#         # Check constraints\n",
    "#         if (\n",
    "#             order[\"package_weight\"] <= remaining_payload and\n",
    "#             round_trip_distance <= remaining_distance\n",
    "#         ):\n",
    "#             assigned_orders.append(order[\"id\"])\n",
    "#             total_distance += round_trip_distance\n",
    "#             remaining_payload -= order[\"package_weight\"]\n",
    "#             remaining_distance -= round_trip_distance\n",
    "#             orders.remove(order)  # Remove assigned order\n",
    "#     if assigned_orders:\n",
    "#         assignments.append({\n",
    "#             \"drone\": drone[\"id\"],\n",
    "#             \"orders\": assigned_orders,\n",
    "#             \"total_distance\": total_distance\n",
    "#         })\n",
    "# print(assignments)"
   ]
  },
  {
   "cell_type": "code",
   "execution_count": 11,
   "metadata": {},
   "outputs": [
    {
     "name": "stdout",
     "output_type": "stream",
     "text": [
      "{'id': 'D3', 'max_payload': 7, 'max_distance': 50, 'speed': 2.5, 'available': True}\n",
      "remaining_payload 7\n",
      "remaining_distance 50\n",
      "{'id': 'O3', 'delivery_x': 4, 'delivery_y': 4, 'deadline': 25, 'package_weight': 4}\n",
      "HI\n",
      "round_trip_distance 16\n",
      "assigned_orders ['O3']\n",
      "total_distance 16\n",
      "remaining_payload 3\n",
      "remaining_distance 34\n",
      "{'id': 'O2', 'delivery_x': 3, 'delivery_y': 3, 'deadline': 30, 'package_weight': 8}\n",
      "HI\n",
      "round_trip_distance 12\n",
      "{'id': 'O1', 'delivery_x': 2, 'delivery_y': 2, 'deadline': 15, 'package_weight': 2}\n",
      "HI\n",
      "round_trip_distance 8\n",
      "assigned_orders ['O3', 'O1']\n",
      "remaining_payload 1\n",
      "remaining_distance 26\n",
      "{'id': 'O4', 'delivery_x': -2, 'delivery_y': -2, 'deadline': 40, 'package_weight': 6}\n",
      "HI\n",
      "round_trip_distance 8\n",
      "{'id': 'D1', 'max_payload': 20, 'max_distance': 100, 'speed': 2, 'available': True}\n",
      "remaining_payload 20\n",
      "remaining_distance 100\n",
      "{'id': 'O2', 'delivery_x': 3, 'delivery_y': 3, 'deadline': 30, 'package_weight': 8}\n",
      "HI\n",
      "round_trip_distance 12\n",
      "assigned_orders ['O2']\n",
      "total_distance 12\n",
      "remaining_payload 12\n",
      "remaining_distance 88\n",
      "{'id': 'O4', 'delivery_x': -2, 'delivery_y': -2, 'deadline': 40, 'package_weight': 6}\n",
      "HI\n",
      "round_trip_distance 8\n",
      "assigned_orders ['O2', 'O4']\n",
      "remaining_payload 6\n",
      "remaining_distance 80\n",
      "{'id': 'D2', 'max_payload': 25, 'max_distance': 40, 'speed': 1.5, 'available': True}\n",
      "remaining_payload 25\n",
      "remaining_distance 40\n",
      "[{'drone': 'D3', 'orders': ['O3', 'O1'], 'total_distance': 16}, {'drone': 'D1', 'orders': ['O2', 'O4'], 'total_distance': 12}]\n"
     ]
    }
   ],
   "source": [
    "def distance(x, y,z,a):\n",
    "    return abs(x - 0) + abs(y - 0)\n",
    "\n",
    "orders = sorted(data[\"orders\"], key=lambda o: (-(o[\"delivery_x\"]+o[\"delivery_y\"])))  # Prioritize earlier deadlines\n",
    "#for i in orders:\n",
    "#    print(i)\n",
    "assignments = []\n",
    "for drone in drones:\n",
    "    print(drone)\n",
    "    if not drone[\"available\"]:\n",
    "        print(f\"Drone {drone['id']} is not available.\")\n",
    "        continue  # Skip unavailable drones\n",
    "    assigned_orders = []\n",
    "    total_distance = 0\n",
    "    remaining_payload = drone[\"max_payload\"]\n",
    "    print(\"remaining_payload\", drone[\"max_payload\"])\n",
    "    remaining_distance = drone[\"max_distance\"]\n",
    "    print(\"remaining_distance\", drone[\"max_distance\"])\n",
    "    z=a=0\n",
    "    for order in orders[:]:  # Copy to allow modification\n",
    "        print(order)\n",
    "        print(\"HI\")\n",
    "        order_distance = distance(order[\"delivery_x\"], order[\"delivery_y\"] , z, a)\n",
    "        round_trip_distance = 2 * order_distance\n",
    "        print(\"round_trip_distance\", round_trip_distance)\n",
    "\n",
    "        # Check constraints\n",
    "        if (\n",
    "            order[\"package_weight\"] <= remaining_payload and\n",
    "            round_trip_distance <= remaining_distance \n",
    "        ):\n",
    "            assigned_orders.append(order[\"id\"])\n",
    "            print(\"assigned_orders\", assigned_orders)\n",
    "            if total_distance == 0:\n",
    "                total_distance += round_trip_distance\n",
    "                print(\"total_distance\", total_distance)\n",
    "            remaining_payload -= order[\"package_weight\"]\n",
    "            print(\"remaining_payload\", remaining_payload)\n",
    "            remaining_distance -= round_trip_distance\n",
    "            print(\"remaining_distance\", remaining_distance)\n",
    "            orders.remove(order)  # Remove assigned order\n",
    "    if assigned_orders:\n",
    "        assignments.append({\n",
    "            \"drone\": drone[\"id\"],\n",
    "            \"orders\": assigned_orders,\n",
    "            \"total_distance\": total_distance\n",
    "        })\n",
    "\n",
    "print(assignments)"
   ]
  },
  {
   "cell_type": "code",
   "execution_count": 9,
   "metadata": {},
   "outputs": [
    {
     "name": "stdout",
     "output_type": "stream",
     "text": [
      "[{'id': 'O3', 'delivery_x': 4, 'delivery_y': 4, 'deadline': 25, 'package_weight': 4}, {'id': 'O2', 'delivery_x': 3, 'delivery_y': -3, 'deadline': 30, 'package_weight': 8}, {'id': 'O4', 'delivery_x': -3, 'delivery_y': -2, 'deadline': 40, 'package_weight': 6}, {'id': 'O1', 'delivery_x': -2, 'delivery_y': 2, 'deadline': 15, 'package_weight': 2}]\n"
     ]
    },
    {
     "data": {
      "image/png": "[encoded data removed]",
      "text/plain": [
       "<Figure size 800x800 with 1 Axes>"
      ]
     },
     "metadata": {},
     "output_type": "display_data"
    }
   ],
   "source": [
    "import json  # Importing the JSON module to handle reading and writing JSON files\n",
    "import matplotlib.pyplot as plt  # Importing matplotlib for plotting\n",
    "# Function to calculate distance from origin (0, 0) to (x, y)\n",
    "def distance(x, y):\n",
    "    return abs(x - 0) + abs(y - 0)  # Sum of the absolute differences in x and y coordinates\n",
    "\n",
    "def visualize_assignments(assignments, orders_data):\n",
    "    plt.figure(figsize=(8, 8))\n",
    "    plt.title(\"Drone Assignments Visualization\")\n",
    "\n",
    "    # Draw origin\n",
    "    plt.scatter(0, 0, color='blue', s=100, label='Origin (0,0)')\n",
    "\n",
    "    # Prepare order points\n",
    "    order_points = {order['id']: (order['delivery_x'], order['delivery_y']) for order in orders_data}\n",
    "\n",
    "    # Plot orders\n",
    "    for order_id, (x, y) in order_points.items():\n",
    "        plt.scatter(x, y, color='green', s=50)\n",
    "        plt.text(x + 0.2, y + 0.2, order_id, fontsize=9)\n",
    "\n",
    "    # Draw lines from origin to assigned orders\n",
    "    colors = ['red', 'purple', 'orange', 'cyan', 'magenta', 'brown']\n",
    "    for idx, assignment in enumerate(assignments):\n",
    "        color = colors[idx % len(colors)]\n",
    "        for order_id in assignment['orders']:\n",
    "            x, y = order_points[order_id]\n",
    "            plt.plot([0, x], [0, y], linestyle='--', color=color, alpha=0.7)\n",
    "\n",
    "    plt.xlabel(\"X Coordinate\")\n",
    "    plt.ylabel(\"Y Coordinate\")\n",
    "    plt.legend()\n",
    "    plt.grid(True)\n",
    "    plt.axhline(0, color='black', linewidth=0.5)\n",
    "    plt.axvline(0, color='black', linewidth=0.5)\n",
    "    plt.savefig(\"assignments_visualization.png\")\n",
    "    plt.show()\n",
    "# Main function to assign drones to orders\n",
    "def assign_drones(input_file, output_file):\n",
    "    # Load input JSON data from the given file\n",
    "    with open(input_file, \"r\") as f:\n",
    "        data = json.load(f)\n",
    "\n",
    "    # Sort drones based on priority: speed (descending), then max_payload (descending), then max_distance (descending)\n",
    "    drones = sorted(data[\"drones\"][\"fleet\"], key=lambda d: (-d[\"speed\"], -d[\"max_payload\"], -d[\"max_distance\"]))\n",
    "\n",
    "    # Sort orders based on delivery coordinates (sum of x and y), to prioritize farther orders\n",
    "    orders = sorted(data[\"orders\"], key=lambda o: -distance(o[\"delivery_x\"],o[\"delivery_y\"]))\n",
    "    print(orders)\n",
    "    assignments = []  # List to store the final drone-to-order assignments\n",
    "\n",
    "    # Iterate over each drone\n",
    "    for drone in drones:\n",
    "        if not drone[\"available\"]:\n",
    "            continue  # Skip drones that are not available\n",
    "\n",
    "        assigned_orders = []  # List to store orders assigned to the current drone\n",
    "        total_distance = 0  # Total distance drone will travel\n",
    "        remaining_payload = drone[\"max_payload\"]  # Initialize drone's payload capacity\n",
    "        remaining_distance = drone[\"max_distance\"]  # Initialize drone's travel distance capacity\n",
    "\n",
    "        # Iterate over a copy of orders list, so we can modify the original list safely\n",
    "        for order in orders[:]:\n",
    "            order_distance = distance(order[\"delivery_x\"], order[\"delivery_y\"])  # Calculate distance to order\n",
    "            round_trip_distance = 2 * order_distance  # Round-trip distance to deliver the order\n",
    "\n",
    "            # Check if drone can carry this order and make the round trip\n",
    "            if (\n",
    "                order[\"package_weight\"] <= remaining_payload and\n",
    "                round_trip_distance <= remaining_distance\n",
    "            ):\n",
    "                assigned_orders.append(order[\"id\"])  # Assign order to the drone\n",
    "                if total_distance == 0:\n",
    "                    total_distance += round_trip_distance  # Add the distance only once during the first assignment, as the orders are sorted in descending order by their distance from the origin.\n",
    "                remaining_payload -= order[\"package_weight\"]  # Update remaining payload capacity\n",
    "                remaining_distance -= round_trip_distance  # Update remaining travel distance\n",
    "                orders.remove(order)  # Remove the order from the available orders list\n",
    "\n",
    "        # If any orders were assigned to the drone, record the assignment\n",
    "        if assigned_orders:\n",
    "            assignments.append({\n",
    "                \"drone\": drone[\"id\"],  # Drone ID\n",
    "                \"orders\": assigned_orders,  # List of order IDs assigned to this drone\n",
    "                \"total_distance\": total_distance  # Total distance travelled by this drone\n",
    "            })\n",
    "\n",
    "    # Sort the assignments list by drone ID for cleaner output\n",
    "    assignments = sorted(assignments, key=lambda x: x[\"drone\"])\n",
    "    visualize_assignments(assignments, data[\"orders\"])\n",
    "    # Save the assignments to the output JSON file\n",
    "    with open(output_file, \"w\") as f:\n",
    "        json.dump({\"assignments\": assignments}, f, indent=4)\n",
    "\n",
    "# Example usage of the function with input and output file paths\n",
    "assign_drones(r\"sample.json\", \"output.json\")"
   ]
  },
  {
   "cell_type": "code",
   "execution_count": 110,
   "metadata": {},
   "outputs": [
    {
     "data": {
      "image/png": "[encoded data removed]",
      "text/plain": [
       "<Figure size 800x800 with 1 Axes>"
      ]
     },
     "metadata": {},
     "output_type": "display_data"
    }
   ],
   "source": [
    "import json  # Importing the JSON module to handle reading and writing JSON files\n",
    "import matplotlib.pyplot as plt  # Importing matplotlib for plotting\n",
    "from itertools import groupby\n",
    "import math\n",
    "# Function to calculate distance from origin (0, 0) to (x, y)\n",
    "def distance(x, y):\n",
    "    return abs(x - 0) + abs(y - 0)  # Sum of the absolute differences in x and y coordinates\n",
    "def distance_points(x1, y1, x2, y2):\n",
    "    return abs(x2 - x1) + abs(y2 - y1)  # Sum of the absolute differences in x and y coordinates\n",
    "def visualize_assignments(assignments, orders_data):\n",
    "    plt.figure(figsize=(8, 8))\n",
    "    plt.title(\"Drone Assignments Visualization\")\n",
    "\n",
    "    # Draw origin\n",
    "    plt.scatter(0, 0, color='blue', s=100, label='Origin (0,0)')\n",
    "\n",
    "    # Prepare order points\n",
    "    order_points = {order['id']: (order['delivery_x'], order['delivery_y']) for order in orders_data}\n",
    "\n",
    "    # Plot orders\n",
    "    for order_id, (x, y) in order_points.items():\n",
    "        plt.scatter(x, y, color='green', s=50)\n",
    "        plt.text(x + 0.2, y + 0.2, order_id, fontsize=9)\n",
    "\n",
    "    # Draw lines from origin to assigned orders\n",
    "    colors = ['red', 'purple', 'orange', 'cyan', 'magenta', 'brown']\n",
    "    for idx, assignment in enumerate(assignments):\n",
    "        color = colors[idx % len(colors)]\n",
    "        for order_id in assignment['orders']:\n",
    "            x, y = order_points[order_id]\n",
    "            plt.plot([0, x], [0, y], linestyle='--', color=color, alpha=0.7)\n",
    "\n",
    "    plt.xlabel(\"X Coordinate\")\n",
    "    plt.ylabel(\"Y Coordinate\")\n",
    "    plt.legend()\n",
    "    plt.grid(True)\n",
    "    plt.axhline(0, color='black', linewidth=0.5)\n",
    "    plt.axvline(0, color='black', linewidth=0.5)\n",
    "    plt.savefig(\"assignments_visualization.png\")\n",
    "    plt.show()\n",
    "\n",
    "def quadrant(order):\n",
    "    if order[\"delivery_x\"] > 0 and order[\"delivery_y\"] > 0:\n",
    "        order[\"quadrant\"] = 1\n",
    "    elif order[\"delivery_x\"] > 0 and order[\"delivery_y\"] < 0:\n",
    "        order[\"quadrant\"] = 2\n",
    "    elif order[\"delivery_x\"] < 0 and order[\"delivery_y\"] < 0:\n",
    "        order[\"quadrant\"] = 3\n",
    "    elif order[\"delivery_x\"] < 0 and order[\"delivery_y\"] > 0:\n",
    "        order[\"quadrant\"] = 4\n",
    "\n",
    "# Main function to assign drones to orders\n",
    "def assign_drones(input_file, output_file):\n",
    "    # Load input JSON data from the given file\n",
    "    with open(input_file, \"r\") as f:\n",
    "        data = json.load(f)\n",
    "   \n",
    "    # Sort drones based on priority: speed (descending), then max_payload (descending), then max_distance (descending)\n",
    "    drones = sorted(data[\"drones\"][\"fleet\"], key=lambda d: (-d[\"speed\"], -d[\"max_payload\"], -d[\"max_distance\"]))\n",
    "\n",
    "    #for i in data[\"orders\"]:\n",
    "    #    quadrant(i)\n",
    "    # Sort orders based on delivery coordinates (sum of x and y), to prioritize farther orders\n",
    "    #order=[]\n",
    "    # First, sort by quadrant to prepare for groupby\n",
    "    # orders_sorted = sorted(data[\"orders\"], key=lambda o: -distance(o[\"delivery_x\"], o[\"delivery_y\"]))\n",
    "\n",
    "    # Then, group and sort within each group\n",
    "    #for quad, group in groupby(orders_sorted, key=lambda o: o[\"quadrant\"]):\n",
    "    #    group_orders = sorted(group, key=lambda o: -distance(o[\"delivery_x\"], o[\"delivery_y\"]))\n",
    "    #    order.append(group_orders)\n",
    "    #    print(group_orders)\n",
    "    #flattened = [order for group in order for order in group]    \n",
    "    assignments = []  # List to store the final drone-to-order assignments\n",
    "    #flattened=orders_sorted\n",
    "    # Iterate over each drone\n",
    "    for drone in drones:\n",
    "        if not drone[\"available\"]:\n",
    "            continue  # Skip drones that are not available\n",
    "\n",
    "        assigned_orders = []  # List to store orders assigned to the current drone\n",
    "        total_distance = 0  # Total distance drone will travel\n",
    "        remaining_payload = drone[\"max_payload\"]  # Initialize drone's payload capacity\n",
    "        remaining_distance = drone[\"max_distance\"]  # Initialize drone's travel distance capacity\n",
    "        x_cordinate = 0\n",
    "        y_cordinate = 0\n",
    "        if assignments == []:\n",
    "            orders_sorted = sorted(data[\"orders\"], key=lambda o: -distance(o[\"delivery_x\"], o[\"delivery_y\"]))\n",
    "        else:\n",
    "            orders_sorted = sorted(flattened, key=lambda o: -distance(o[\"delivery_x\"], o[\"delivery_y\"]))\n",
    "        flattened=orders_sorted\n",
    "        # Iterate over a copy of orders list, so we can modify the original list safely\n",
    "        for order in flattened:\n",
    "            order_distance = distance_points(x_cordinate,y_cordinate,order[\"delivery_x\"], order[\"delivery_y\"])  # Calculate distance to order\n",
    "            round_trip_distance = order_distance  # Round-trip distance to deliver the order\n",
    "\n",
    "            # Check if drone can carry this order and make the round trip\n",
    "            if (order[\"package_weight\"] <= remaining_payload and round_trip_distance <= remaining_distance):\n",
    "                assigned_orders.append(order[\"id\"])  # Assign order to the drone\n",
    "                #if total_distance == 0:\n",
    "                total_distance += round_trip_distance  # Add the distance only once during the first assignment, as the orders are sorted in descending order by their distance from the origin.\n",
    "                remaining_payload -= order[\"package_weight\"]  # Update remaining payload capacity\n",
    "                remaining_distance -= round_trip_distance  # Update remaining travel distance\n",
    "                x_cordinate = order[\"delivery_x\"]\n",
    "                y_cordinate = order[\"delivery_y\"]\n",
    "                flattened.remove(order)\n",
    "                flattened = sorted(flattened, key=lambda o: (distance_points(x_cordinate,y_cordinate,o[\"delivery_x\"],o[\"delivery_y\"])))\n",
    "                # Remove the order from the available orders list\n",
    "            else:\n",
    "                total_distance += distance_points(order[\"delivery_x\"], order[\"delivery_y\"],0,0)\n",
    "        # If any orders were assigned to the drone, record the assignment\n",
    "        if assigned_orders:\n",
    "            assignments.append({\n",
    "                \"drone\": drone[\"id\"],  # Drone ID\n",
    "                \"orders\": assigned_orders,  # List of order IDs assigned to this drone\n",
    "                \"total_distance\": total_distance  # Total distance travelled by this drone\n",
    "            })\n",
    "\n",
    "    # Sort the assignments list by drone ID for cleaner output\n",
    "    assignments = sorted(assignments, key=lambda x: x[\"drone\"])\n",
    "    visualize_assignments(assignments, data[\"orders\"])\n",
    "    # Save the assignments to the output JSON file\n",
    "    with open(output_file, \"w\") as f:\n",
    "        json.dump({\"assignments\": assignments}, f, indent=4)\n",
    "\n",
    "# Example usage of the function with input and output file paths\n",
    "assign_drones(r\"sample.json\", \"output.json\")"
   ]
  },
  {
   "cell_type": "code",
   "execution_count": 29,
   "metadata": {},
   "outputs": [
    {
     "name": "stdout",
     "output_type": "stream",
     "text": [
      "{'city': {'grid_size': 20}, 'drones': {'fleet': [{'id': 'D1', 'max_payload': 20, 'max_distance': 100, 'speed': 2, 'available': True}, {'id': 'D2', 'max_payload': 25, 'max_distance': 40, 'speed': 1.5, 'available': True}, {'id': 'D3', 'max_payload': 7, 'max_distance': 50, 'speed': 2.5, 'available': True}]}, 'orders': [{'id': 'O1', 'delivery_x': -2, 'delivery_y': 2, 'deadline': 15, 'package_weight': 2, 'quadrant': 4}, {'id': 'O2', 'delivery_x': 3, 'delivery_y': -3, 'deadline': 30, 'package_weight': 8, 'quadrant': 2}, {'id': 'O3', 'delivery_x': 4, 'delivery_y': 4, 'deadline': 25, 'package_weight': 4, 'quadrant': 1}, {'id': 'O4', 'delivery_x': -3, 'delivery_y': -2, 'deadline': 40, 'package_weight': 6, 'quadrant': 3}, {'id': 'O5', 'delivery_x': -3, 'delivery_y': -1, 'deadline': 40, 'package_weight': 1, 'quadrant': 3}]}\n"
     ]
    }
   ],
   "source": [
    "with open(\"sample.json\", \"r\") as f:\n",
    "        data = json.load(f)\n",
    "def quadrant(order):\n",
    "    if order[\"delivery_x\"] > 0 and order[\"delivery_y\"] > 0:\n",
    "        order[\"quadrant\"] = 1\n",
    "    elif order[\"delivery_x\"] > 0 and order[\"delivery_y\"] < 0:\n",
    "        order[\"quadrant\"] = 2\n",
    "    elif order[\"delivery_x\"] < 0 and order[\"delivery_y\"] < 0:\n",
    "        order[\"quadrant\"] = 3\n",
    "    elif order[\"delivery_x\"] < 0 and order[\"delivery_y\"] > 0:\n",
    "        order[\"quadrant\"] = 4\n",
    "for i in data['orders']:\n",
    "    quadrant(i)\n",
    "print(data)\n",
    "a=data['orders']"
   ]
  },
  {
   "cell_type": "code",
   "execution_count": 36,
   "metadata": {},
   "outputs": [
    {
     "name": "stdout",
     "output_type": "stream",
     "text": [
      "[{'id': 'O3', 'delivery_x': 4, 'delivery_y': 4, 'deadline': 25, 'package_weight': 4, 'quadrant': 1}]\n",
      "[{'id': 'O2', 'delivery_x': 3, 'delivery_y': -3, 'deadline': 30, 'package_weight': 8, 'quadrant': 2}]\n",
      "[{'id': 'O4', 'delivery_x': -3, 'delivery_y': -2, 'deadline': 40, 'package_weight': 6, 'quadrant': 3}, {'id': 'O5', 'delivery_x': -3, 'delivery_y': -1, 'deadline': 40, 'package_weight': 1, 'quadrant': 3}]\n",
      "[{'id': 'O1', 'delivery_x': -2, 'delivery_y': 2, 'deadline': 15, 'package_weight': 2, 'quadrant': 4}]\n"
     ]
    }
   ],
   "source": [
    "from itertools import groupby\n",
    "order=[]\n",
    "# First, sort by quadrant to prepare for groupby\n",
    "orders_sorted = sorted(a, key=lambda o: o[\"quadrant\"])\n",
    "\n",
    "# Then, group and sort within each group\n",
    "for quadrant, group in groupby(orders_sorted, key=lambda o: o[\"quadrant\"]):\n",
    "    group_orders = sorted(group, key=lambda o: -distance(o[\"delivery_x\"], o[\"delivery_y\"]))\n",
    "    order.append(group_orders)\n",
    "    print(group_orders)"
   ]
  },
  {
   "cell_type": "code",
   "execution_count": 48,
   "metadata": {},
   "outputs": [
    {
     "name": "stdout",
     "output_type": "stream",
     "text": [
      "[{'id': 'O3', 'delivery_x': 4, 'delivery_y': 4, 'deadline': 25, 'package_weight': 4, 'quadrant': 1}, {'id': 'O2', 'delivery_x': 3, 'delivery_y': -3, 'deadline': 30, 'package_weight': 8, 'quadrant': 2}, {'id': 'O4', 'delivery_x': -3, 'delivery_y': -2, 'deadline': 40, 'package_weight': 6, 'quadrant': 3}, {'id': 'O5', 'delivery_x': -3, 'delivery_y': -1, 'deadline': 40, 'package_weight': 1, 'quadrant': 3}, {'id': 'O1', 'delivery_x': -2, 'delivery_y': 2, 'deadline': 15, 'package_weight': 2, 'quadrant': 4}]\n"
     ]
    }
   ],
   "source": [
    "flattened = [order for group in order for order in group]\n",
    "print(flattened)"
   ]
  },
  {
   "cell_type": "code",
   "execution_count": 49,
   "metadata": {},
   "outputs": [
    {
     "name": "stdout",
     "output_type": "stream",
     "text": [
      "{'id': 'O3', 'delivery_x': 4, 'delivery_y': 4, 'deadline': 25, 'package_weight': 4, 'quadrant': 1}\n",
      "{'id': 'O2', 'delivery_x': 3, 'delivery_y': -3, 'deadline': 30, 'package_weight': 8, 'quadrant': 2}\n",
      "{'id': 'O4', 'delivery_x': -3, 'delivery_y': -2, 'deadline': 40, 'package_weight': 6, 'quadrant': 3}\n",
      "{'id': 'O5', 'delivery_x': -3, 'delivery_y': -1, 'deadline': 40, 'package_weight': 1, 'quadrant': 3}\n",
      "{'id': 'O1', 'delivery_x': -2, 'delivery_y': 2, 'deadline': 15, 'package_weight': 2, 'quadrant': 4}\n"
     ]
    }
   ],
   "source": [
    "for i in flattened:\n",
    "    print(i)"
   ]
  },
  {
   "cell_type": "code",
   "execution_count": 66,
   "metadata": {},
   "outputs": [
    {
     "name": "stdout",
     "output_type": "stream",
     "text": [
      "[1, 2, 3, 4, 6]\n",
      "[1, 2, 3, 4, 6]\n",
      "[1, 2, 3, 4, 6]\n",
      "[1, 2, 3, 4, 6]\n",
      "[1, 2, 3, 4, 6]\n"
     ]
    }
   ],
   "source": [
    "a = [1, 2, 3, 4, 5, 6]\n",
    "for i in a:  # Iterate over a copy of the list to avoid modifying it during iteration\n",
    "    if 5 in a:  # Check if 5 exists in the list\n",
    "        a.remove(5)\n",
    "    print(a)"
   ]
  },
  {
   "cell_type": "code",
   "execution_count": 75,
   "metadata": {},
   "outputs": [
    {
     "name": "stdout",
     "output_type": "stream",
     "text": [
      "id\n",
      "delivery_x\n",
      "delivery_y\n",
      "deadline\n",
      "package_weight\n",
      "quadrant\n"
     ]
    }
   ],
   "source": [
    "# Assign the list to a new variable instead of using `f`\n",
    "f_list = [{'id': 'O3', 'delivery_x': 4, 'delivery_y': 4, 'deadline': 25, 'package_weight': 4, 'quadrant': 1},{'id': 'O4', 'delivery_x': 5, 'delivery_y': 5, 'deadline': 30, 'package_weight': 5, 'quadrant': 1}]\n",
    "f={'id': 'O3', 'delivery_x': 4, 'delivery_y': 4, 'deadline': 25, 'package_weight': 4, 'quadrant': 1}\n",
    "for i in f:\n",
    "    print(i)"
   ]
  },
  {
   "cell_type": "code",
   "execution_count": 81,
   "metadata": {},
   "outputs": [],
   "source": [
    "with open(\"output.json\", \"r\") as f:\n",
    "        output = json.load(f)"
   ]
  },
  {
   "cell_type": "code",
   "execution_count": 82,
   "metadata": {},
   "outputs": [
    {
     "data": {
      "text/plain": [
       "{'assignments': [{'drone': 'D1', 'orders': ['O2'], 'total_distance': 12},\n",
       "  {'drone': 'D2', 'orders': ['O4'], 'total_distance': 10},\n",
       "  {'drone': 'D3', 'orders': ['O3', 'O1', 'O5'], 'total_distance': 16}]}"
      ]
     },
     "execution_count": 82,
     "metadata": {},
     "output_type": "execute_result"
    }
   ],
   "source": [
    "output"
   ]
  },
  {
   "cell_type": "code",
   "execution_count": 103,
   "metadata": {},
   "outputs": [
    {
     "name": "stdout",
     "output_type": "stream",
     "text": [
      "[{'id': 'O3', 'delivery_x': 4, 'delivery_y': 4, 'deadline': 25, 'package_weight': 4}, {'id': 'O2', 'delivery_x': 3, 'delivery_y': -3, 'deadline': 30, 'package_weight': 8}, {'id': 'O1', 'delivery_x': -2, 'delivery_y': 2, 'deadline': 15, 'package_weight': 2}, {'id': 'O5', 'delivery_x': -3, 'delivery_y': -1, 'deadline': 40, 'package_weight': 1}, {'id': 'O4', 'delivery_x': -3, 'delivery_y': -2, 'deadline': 40, 'package_weight': 6}]\n"
     ]
    }
   ],
   "source": [
    "s=[{'id': 'O3', 'delivery_x': 4, 'delivery_y': 4, 'deadline': 25, 'package_weight': 4}, {'id': 'O2', 'delivery_x': 3, 'delivery_y': -3, 'deadline': 30, 'package_weight': 8}, {'id': 'O4', 'delivery_x': -3, 'delivery_y': -2, 'deadline': 40, 'package_weight': 6}, {'id': 'O1', 'delivery_x': -2, 'delivery_y': 2, 'deadline': 15, 'package_weight': 2}, {'id': 'O5', 'delivery_x': -3, 'delivery_y': -1, 'deadline': 40, 'package_weight': 1}]\n",
    "x_cordinate = 4\n",
    "y_cordinate = 4\n",
    "flattened = sorted(s, key=lambda o: (distance_points(x_cordinate,y_cordinate,o[\"delivery_x\"],o[\"delivery_y\"])))\n",
    "print(flattened)"
   ]
  },
  {
   "cell_type": "code",
   "execution_count": 125,
   "metadata": {},
   "outputs": [
    {
     "data": {
      "image/png": "[encoded data removed]",
      "text/plain": [
       "<Figure size 800x800 with 1 Axes>"
      ]
     },
     "metadata": {},
     "output_type": "display_data"
    }
   ],
   "source": [
    "import json\n",
    "import matplotlib.pyplot as plt\n",
    "from itertools import groupby\n",
    "\n",
    "# Function to calculate Manhattan distance from (0,0)\n",
    "def distance(x, y):\n",
    "    return abs(x) + abs(y)\n",
    "\n",
    "# Function to calculate Manhattan distance between two points\n",
    "def distance_points(x1, y1, x2, y2):\n",
    "    return abs(x2 - x1) + abs(y2 - y1)\n",
    "\n",
    "# Visualization function\n",
    "def visualize_assignments(assignments, orders_data):\n",
    "    plt.figure(figsize=(8, 8))\n",
    "    plt.title(\"Drone Assignments Visualization\")\n",
    "\n",
    "    # Draw origin\n",
    "    plt.scatter(0, 0, color='blue', s=100, label='Origin (0,0)')\n",
    "\n",
    "    # Prepare order points\n",
    "    order_points = {order['id']: (order['delivery_x'], order['delivery_y']) for order in orders_data}\n",
    "\n",
    "    # Plot orders\n",
    "    for order_id, (x, y) in order_points.items():\n",
    "        plt.scatter(x, y, color='green', s=50)\n",
    "        plt.text(x + 0.2, y + 0.2, order_id, fontsize=9)\n",
    "\n",
    "    # Draw lines from origin to assigned orders\n",
    "    colors = ['red', 'purple', 'orange', 'cyan', 'magenta', 'brown']\n",
    "    for idx, assignment in enumerate(assignments):\n",
    "        color = colors[idx % len(colors)]\n",
    "        for order_id in assignment['orders']:\n",
    "            x, y = order_points[order_id]\n",
    "            plt.plot([0, x], [0, y], linestyle='--', color=color, alpha=0.7)\n",
    "\n",
    "    plt.xlabel(\"X Coordinate\")\n",
    "    plt.ylabel(\"Y Coordinate\")\n",
    "    plt.legend()\n",
    "    plt.grid(True)\n",
    "    plt.axhline(0, color='black', linewidth=0.5)\n",
    "    plt.axvline(0, color='black', linewidth=0.5)\n",
    "    plt.savefig(\"assignments_visualization.png\")\n",
    "    plt.show()\n",
    "\n",
    "# Main assignment function\n",
    "def assign_drones(input_file, output_file):\n",
    "    with open(input_file, \"r\") as f:\n",
    "        data = json.load(f)\n",
    "\n",
    "    drones = sorted(data[\"drones\"][\"fleet\"], key=lambda d: (-d[\"speed\"], -d[\"max_payload\"], -d[\"max_distance\"]))\n",
    "\n",
    "    assignments = []\n",
    "    for drone in drones:\n",
    "        if not drone[\"available\"]:\n",
    "            continue\n",
    "        \n",
    "        assigned_orders = []\n",
    "        total_distance = 0\n",
    "        remaining_payload = drone[\"max_payload\"]\n",
    "        remaining_distance = drone[\"max_distance\"]\n",
    "        x_cordinate, y_cordinate = 0, 0\n",
    "\n",
    "        if not assignments:\n",
    "            orders_sorted = sorted(data[\"orders\"], key=lambda o: -distance(o[\"delivery_x\"], o[\"delivery_y\"]))\n",
    "        else:\n",
    "            orders_sorted = sorted(flattened, key=lambda o: -distance(o[\"delivery_x\"], o[\"delivery_y\"]))\n",
    "\n",
    "        flattened = orders_sorted\n",
    "\n",
    "        for order in flattened[:]:  # Copy of list for safe removal\n",
    "            order_distance = distance_points(x_cordinate, y_cordinate, order[\"delivery_x\"], order[\"delivery_y\"])\n",
    "            if (order[\"package_weight\"] <= remaining_payload and order_distance <= remaining_distance):\n",
    "                assigned_orders.append(order[\"id\"])\n",
    "                total_distance += (order_distance*2)  # Round trip distance\n",
    "                remaining_payload -= order[\"package_weight\"]\n",
    "                remaining_distance -= order_distance\n",
    "                x_cordinate, y_cordinate = order[\"delivery_x\"], order[\"delivery_y\"]\n",
    "                flattened.remove(order)\n",
    "\n",
    "                # Sort remaining orders based on proximity to current position\n",
    "                flattened = sorted(flattened, key=lambda o: distance_points(x_cordinate, y_cordinate, o[\"delivery_x\"], o[\"delivery_y\"]))\n",
    "            elif order == flattened[-1]:\n",
    "                total_distance += distance_points(order[\"delivery_x\"], order[\"delivery_y\"], 0, 0)\n",
    "\n",
    "        if assigned_orders:\n",
    "            assignments.append({\n",
    "                \"drone_id\": drone[\"id\"],\n",
    "                \"orders\": assigned_orders,\n",
    "                \"total_distance\": total_distance\n",
    "            })\n",
    "\n",
    "    # Write results to output file\n",
    "    with open(output_file, \"w\") as f:\n",
    "        json.dump(assignments, f, indent=4)\n",
    "\n",
    "    # Call the visualization function\n",
    "    visualize_assignments(assignments, data[\"orders\"])\n",
    "\n",
    "# Example usage\n",
    "assign_drones(\"sample.json\", \"output.json\")\n"
   ]
  },
  {
   "cell_type": "code",
   "execution_count": 124,
   "metadata": {},
   "outputs": [],
   "source": [
    "import json\n",
    "import matplotlib.pyplot as plt\n",
    "from itertools import groupby\n",
    "\n",
    "# Function to calculate Manhattan distance from (0,0)\n",
    "def distance(x, y):\n",
    "    return abs(x) + abs(y)\n",
    "\n",
    "# Function to calculate Manhattan distance between two points\n",
    "def distance_points(x1, y1, x2, y2):\n",
    "    return abs(x2 - x1) + abs(y2 - y1)\n",
    "\n",
    "# Main assignment function\n",
    "def assign_drones(input_file, output_file):\n",
    "    with open(input_file, \"r\") as f:\n",
    "        data = json.load(f)\n",
    "\n",
    "    drones = sorted(data[\"drones\"][\"fleet\"], key=lambda d: (-d[\"speed\"], -d[\"max_payload\"], -d[\"max_distance\"]))\n",
    "\n",
    "    assignments = []\n",
    "    for drone in drones:\n",
    "        if not drone[\"available\"]:\n",
    "            continue\n",
    "\n",
    "        assigned_orders = []\n",
    "        total_distance = 0\n",
    "        remaining_payload = drone[\"max_payload\"]\n",
    "        remaining_distance = drone[\"max_distance\"]\n",
    "        x_cordinate, y_cordinate = 0, 0\n",
    "\n",
    "        if not assignments:\n",
    "            orders_sorted = sorted(data[\"orders\"], key=lambda o: -distance(o[\"delivery_x\"], o[\"delivery_y\"]))\n",
    "        else:\n",
    "            orders_sorted = sorted(flattened, key=lambda o: -distance(o[\"delivery_x\"], o[\"delivery_y\"]))\n",
    "\n",
    "        flattened = orders_sorted\n",
    "\n",
    "        for order in flattened[:]:  # Copy of list for safe removal\n",
    "            order_distance = distance_points(x_cordinate, y_cordinate, order[\"delivery_x\"], order[\"delivery_y\"])\n",
    "            if (order[\"package_weight\"] <= remaining_payload and order_distance <= remaining_distance):\n",
    "                assigned_orders.append(order[\"id\"])\n",
    "                total_distance += (order_distance*2)  # Round trip distance\n",
    "                remaining_payload -= order[\"package_weight\"]\n",
    "                remaining_distance -= order_distance\n",
    "                x_cordinate, y_cordinate = order[\"delivery_x\"], order[\"delivery_y\"]\n",
    "                flattened.remove(order)\n",
    "\n",
    "                # Sort remaining orders based on proximity to current position\n",
    "                flattened = sorted(flattened, key=lambda o: distance_points(x_cordinate, y_cordinate, o[\"delivery_x\"], o[\"delivery_y\"]))\n",
    "            elif order == flattened[-1]:\n",
    "                total_distance += distance_points(order[\"delivery_x\"], order[\"delivery_y\"], 0, 0)\n",
    "\n",
    "        if assigned_orders:\n",
    "            assignments.append({\n",
    "                \"drone_id\": drone[\"id\"],\n",
    "                \"orders\": assigned_orders,\n",
    "                \"total_distance\": total_distance\n",
    "            })\n",
    "\n",
    "    # Write results to output file\n",
    "    with open(output_file, \"w\") as f:\n",
    "        json.dump(assignments, f, indent=4)\n",
    "\n",
    "# Example usage\n",
    "assign_drones(\"sample.json\", \"output.json\")"
   ]
  },
  {
   "cell_type": "code",
   "execution_count": null,
   "metadata": {},
   "outputs": [],
   "source": []
  }
 ],
 "metadata": {
  "kernelspec": {
   "display_name": "Python 3",
   "language": "python",
   "name": "python3"
  },
  "language_info": {
   "codemirror_mode": {
    "name": "ipython",
    "version": 3
   },
   "file_extension": ".py",
   "mimetype": "text/x-python",
   "name": "python",
   "nbconvert_exporter": "python",
   "pygments_lexer": "ipython3",
   "version": "3.12.10"
  }
 },
 "nbformat": 4,
 "nbformat_minor": 2
}
